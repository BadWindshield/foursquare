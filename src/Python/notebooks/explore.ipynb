{
 "cells": [
  {
   "cell_type": "markdown",
   "metadata": {},
   "source": [
    "# Data Science Take Home"
   ]
  },
  {
   "cell_type": "code",
   "execution_count": null,
   "metadata": {},
   "outputs": [],
   "source": [
    "from geopy.distance import great_circle\n",
    "import logging\n",
    "import math\n",
    "import matplotlib.pyplot as plt\n",
    "import numpy as np\n",
    "import pandas as pd\n",
    "from pykalman import KalmanFilter\n",
    "import pylab\n",
    "from shapely.geometry import MultiPoint\n",
    "from sklearn.cluster import DBSCAN\n",
    "import sys\n",
    "\n",
    "pylab.rcParams['figure.figsize'] = (13, 10)"
   ]
  },
  {
   "cell_type": "code",
   "execution_count": null,
   "metadata": {},
   "outputs": [],
   "source": [
    "# Configure logging.\n",
    "logging.basicConfig(level=logging.INFO,\n",
    "                    format='%(asctime)s - %(process)d/%(threadName)s - %(name)s - %(levelname)s - %(message)s',\n",
    "                    stream=sys.stdout)\n",
    "logger = logging.getLogger('main()')"
   ]
  },
  {
   "cell_type": "markdown",
   "metadata": {},
   "source": [
    "## Take a look at the input data"
   ]
  },
  {
   "cell_type": "code",
   "execution_count": null,
   "metadata": {},
   "outputs": [],
   "source": [
    "# Make time the index.\n",
    "\n",
    "df = pd.read_csv('../../../data/TakeHomeData.txt',\n",
    "                 parse_dates=[2],\n",
    "                 sep='\\t').set_index(['time']).sort_index()\n",
    "\n",
    "df.head()"
   ]
  },
  {
   "cell_type": "code",
   "execution_count": null,
   "metadata": {},
   "outputs": [],
   "source": [
    "# How many sessionid's are unique?\n",
    "sessionids = df['sessionid'].unique()\n",
    "sessionids"
   ]
  },
  {
   "cell_type": "code",
   "execution_count": null,
   "metadata": {},
   "outputs": [],
   "source": [
    "# How many installid's are unique?\n",
    "installids = df['installid'].unique()\n",
    "installids"
   ]
  },
  {
   "cell_type": "code",
   "execution_count": null,
   "metadata": {},
   "outputs": [],
   "source": [
    "# Make sure that the time is a timestamp.\n",
    "type(df.index[0])"
   ]
  },
  {
   "cell_type": "code",
   "execution_count": null,
   "metadata": {},
   "outputs": [],
   "source": [
    "# Follow 1 sessionid.\n",
    "sessionid_test = sessionids[5]\n",
    "df[ df['sessionid']==sessionid_test ].head()"
   ]
  },
  {
   "cell_type": "code",
   "execution_count": null,
   "metadata": {},
   "outputs": [],
   "source": [
    "df_sessionid_01 = df[ df['sessionid']==sessionid_test ]\n",
    "plt.subplot(2, 1, 1)\n",
    "plt.plot(df_sessionid_01.index, df_sessionid_01['lat'], 'x-')\n",
    "plt.title('')\n",
    "plt.ylabel('lat (degrees)')\n",
    "\n",
    "plt.subplot(2, 1, 2)\n",
    "plt.plot(df_sessionid_01.index, df_sessionid_01['lng'], 'x-')\n",
    "plt.title('')\n",
    "plt.xlabel('Datetime')\n",
    "plt.ylabel('lng (degrees)')\n",
    "\n",
    "plt.show()"
   ]
  },
  {
   "cell_type": "markdown",
   "metadata": {},
   "source": [
    "## Test the pykalman library"
   ]
  },
  {
   "cell_type": "code",
   "execution_count": null,
   "metadata": {},
   "outputs": [],
   "source": [
    "kf = KalmanFilter(transition_matrices = [[1, 1], [0, 1]], observation_matrices = [[0.1, 0.5], [-0.3, 0.0]])\n",
    "measurements = np.asarray([[1,0], [0,0], [0,1]])  # 3 observations\n",
    "kf = kf.em(measurements, n_iter=5)\n",
    "(filtered_state_means, filtered_state_covariances) = kf.filter(measurements)\n",
    "(smoothed_state_means, smoothed_state_covariances) = kf.smooth(measurements)\n",
    "\n",
    "smoothed_state_means"
   ]
  },
  {
   "cell_type": "markdown",
   "metadata": {},
   "source": [
    "## Apply the Kalman filter to the given problem"
   ]
  },
  {
   "cell_type": "code",
   "execution_count": null,
   "metadata": {},
   "outputs": [],
   "source": [
    "# Follow 1 sessionid.\n",
    "sessionid_test = sessionids[5]\n",
    "df_sessionid_01 = df[ df['sessionid']==sessionid_test ]\n",
    "\n",
    "delta_t = 1\n",
    "F = [[1, 0, delta_t, 0], [0, 1, 0, delta_t], [0, 0, 1, 0], [0, 0, 0, 1]]\n",
    "H = [[1, 0, 0, 0], [0, 1, 0, 0]]\n",
    "measurements = df_sessionid_01.as_matrix(['lat', 'lng'])\n",
    "\n",
    "kf = KalmanFilter(n_dim_state=4,\n",
    "                  n_dim_obs=2,\n",
    "                  transition_matrices=F,\n",
    "                  observation_matrices=H,\n",
    "                  initial_state_mean=[measurements[0, 0], measurements[0, 1], 0, 0])\n",
    "\n",
    "kf = kf.em(measurements, n_iter=5)\n",
    "(filtered_state_means, filtered_state_covariances) = kf.filter(measurements)\n",
    "(smoothed_state_means, smoothed_state_covariances) = kf.smooth(measurements)"
   ]
  },
  {
   "cell_type": "code",
   "execution_count": null,
   "metadata": {},
   "outputs": [],
   "source": [
    "plt.subplot(5, 1, 1)\n",
    "plt.plot(df_sessionid_01.index, df_sessionid_01['lat'], 'x',\n",
    "         df_sessionid_01.index, smoothed_state_means[:, 0], '--')\n",
    "plt.title('sessionid = ' + str(sessionid_test))\n",
    "plt.ylabel('lat (degrees)')\n",
    "\n",
    "plt.subplot(5, 1, 2)\n",
    "plt.plot(df_sessionid_01.index, smoothed_state_means[:, 2], '--')\n",
    "plt.ylabel('lat velocity')\n",
    "\n",
    "plt.subplot(5, 1, 3)\n",
    "plt.plot(df_sessionid_01.index, df_sessionid_01['lng'], 'x',\n",
    "         df_sessionid_01.index, smoothed_state_means[:, 1], '--')\n",
    "plt.ylabel('lng (degrees)')\n",
    "\n",
    "plt.subplot(5, 1, 4)\n",
    "plt.plot(df_sessionid_01.index, smoothed_state_means[:, 3], '--')\n",
    "plt.ylabel('lng velocity')\n",
    "\n",
    "v_threshold = 0.00025\n",
    "b_stop = np.all([np.fabs(smoothed_state_means[:, 2]) < v_threshold,\n",
    "                 np.fabs(smoothed_state_means[:, 3]) < v_threshold], axis=0)\n",
    "\n",
    "plt.subplot(5, 1, 5)\n",
    "plt.plot(df_sessionid_01.index, b_stop, '--')\n",
    "plt.ylabel('Stopped?')\n",
    "plt.xlabel('Datetime')\n",
    "\n",
    "plt.show()"
   ]
  },
  {
   "cell_type": "markdown",
   "metadata": {},
   "source": [
    "## Write code to extract stopping locations"
   ]
  },
  {
   "cell_type": "code",
   "execution_count": null,
   "metadata": {},
   "outputs": [],
   "source": [
    "# installid describes a user, while sessionid describes a session with a user.\n",
    "class LocationTracker(object):\n",
    "    def __init__(self, input_file):\n",
    "        self.input_file = input_file\n",
    "        self.df = pd.read_csv(self.input_file,\n",
    "                              parse_dates=[2],\n",
    "                              sep='\\t').set_index(['time']).sort_index()\n",
    "        self.sessionids = self.df['sessionid'].unique()\n",
    "    \n",
    "    def apply_Kalman_filter(self):\n",
    "        pass\n",
    "    \n",
    "    def find_stopping_locations(self):\n",
    "        # Need to output a .csv file with each row containing the following information for each stop:\n",
    "        #   installid, start time, end time, latitude, longitude.\n",
    "        pass\n",
    "        "
   ]
  },
  {
   "cell_type": "code",
   "execution_count": null,
   "metadata": {},
   "outputs": [],
   "source": [
    "location_tracker = LocationTracker(input_file='../../../data/TakeHomeData.txt')"
   ]
  },
  {
   "cell_type": "markdown",
   "metadata": {},
   "source": [
    "## Use the DBSCAN algorithm\n",
    "See\n",
    "  http://geoffboeing.com/2014/08/clustering-to-reduce-spatial-data-set-size/"
   ]
  },
  {
   "cell_type": "code",
   "execution_count": null,
   "metadata": {},
   "outputs": [],
   "source": [
    "installid_test = installids[0]\n",
    "coords = df[ df['installid']==installid_test ].as_matrix(columns=['lat', 'lng'])\n",
    "\n",
    "coords"
   ]
  },
  {
   "cell_type": "code",
   "execution_count": null,
   "metadata": {},
   "outputs": [],
   "source": [
    "plt.plot(coords[:, 0], coords[:, 1], 'x')\n",
    "plt.xlabel('lat')\n",
    "plt.ylabel('lng')\n",
    "plt.title('installid =' + str(installid_test))\n",
    "\n",
    "plt.show()"
   ]
  },
  {
   "cell_type": "code",
   "execution_count": null,
   "metadata": {},
   "outputs": [],
   "source": [
    "km_per_radian = 6371.0088\n",
    "epsilon = 0.04 / km_per_radian\n",
    "db = DBSCAN(eps=epsilon,\n",
    "            min_samples=4,\n",
    "            algorithm='ball_tree',\n",
    "            metric='haversine').fit(np.radians(coords))\n",
    "\n",
    "cluster_labels = db.labels_\n",
    "num_clusters = len(set(cluster_labels))\n",
    "clusters = pd.Series([coords[cluster_labels == n] for n in range(num_clusters)])\n",
    "print('Number of clusters: {}'.format(num_clusters))"
   ]
  },
  {
   "cell_type": "code",
   "execution_count": null,
   "metadata": {},
   "outputs": [],
   "source": [
    "clusters.head()"
   ]
  },
  {
   "cell_type": "code",
   "execution_count": null,
   "metadata": {},
   "outputs": [],
   "source": [
    "plt.plot(coords[:, 0], coords[:, 1], '.')\n",
    "plt.xlabel('lat')\n",
    "plt.ylabel('lng')\n",
    "plt.title('installid =' + str(installid_test))\n",
    "\n",
    "for cluster in clusters:\n",
    "    try:\n",
    "      plt.plot( MultiPoint(cluster).centroid.x, MultiPoint(cluster).centroid.y, 'ro')\n",
    "    except Exception as e:\n",
    "        logger.exception( 'Caught exception ' + str(e) )\n",
    "plt.show()"
   ]
  },
  {
   "cell_type": "code",
   "execution_count": null,
   "metadata": {},
   "outputs": [],
   "source": [
    "MultiPoint(clusters[2]).centroid.y"
   ]
  }
 ],
 "metadata": {
  "kernelspec": {
   "display_name": "Python 2",
   "language": "python",
   "name": "python2"
  },
  "language_info": {
   "codemirror_mode": {
    "name": "ipython",
    "version": 2
   },
   "file_extension": ".py",
   "mimetype": "text/x-python",
   "name": "python",
   "nbconvert_exporter": "python",
   "pygments_lexer": "ipython2",
   "version": "2.7.12+"
  }
 },
 "nbformat": 4,
 "nbformat_minor": 2
}
