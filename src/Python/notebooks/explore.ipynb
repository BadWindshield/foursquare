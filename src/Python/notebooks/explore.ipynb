{
 "cells": [
  {
   "cell_type": "markdown",
   "metadata": {},
   "source": [
    "# Data Science Take Home"
   ]
  },
  {
   "cell_type": "code",
   "execution_count": null,
   "metadata": {},
   "outputs": [],
   "source": [
    "import math\n",
    "import matplotlib.pyplot as plt\n",
    "import numpy as np\n",
    "import pandas as pd\n",
    "from pykalman import KalmanFilter\n",
    "import pylab\n",
    "\n",
    "pylab.rcParams['figure.figsize'] = (13, 10)"
   ]
  },
  {
   "cell_type": "markdown",
   "metadata": {},
   "source": [
    "## Take a look at the input data"
   ]
  },
  {
   "cell_type": "code",
   "execution_count": null,
   "metadata": {},
   "outputs": [],
   "source": [
    "# Make time the index.\n",
    "\n",
    "df = pd.read_csv('../../../data/TakeHomeData.txt',\n",
    "                 parse_dates=[2],\n",
    "                 sep='\\t').set_index(['time']).sort_index()\n",
    "\n",
    "df.head()"
   ]
  },
  {
   "cell_type": "code",
   "execution_count": null,
   "metadata": {},
   "outputs": [],
   "source": [
    "# Make sure that the time is a timestamp.\n",
    "type(df.index[0])"
   ]
  },
  {
   "cell_type": "code",
   "execution_count": null,
   "metadata": {},
   "outputs": [],
   "source": [
    "# Follow 1 sessionid.\n",
    "df[ df['sessionid']=='579f6f9b498e1fb7c47afc92' ]"
   ]
  },
  {
   "cell_type": "code",
   "execution_count": null,
   "metadata": {},
   "outputs": [],
   "source": [
    "df_sessionid_01 = df[ df['sessionid']=='579f6f9b498e1fb7c47afc92' ]\n",
    "plt.subplot(2, 1, 1)\n",
    "plt.plot(df_sessionid_01.index, df_sessionid_01['lat'], 'x-')\n",
    "plt.title('')\n",
    "plt.ylabel('lat (degrees)')\n",
    "\n",
    "plt.subplot(2, 1, 2)\n",
    "plt.plot(df_sessionid_01.index, df_sessionid_01['lng'], 'x-')\n",
    "plt.title('')\n",
    "plt.xlabel('Datetime')\n",
    "plt.ylabel('lng (degrees)')\n",
    "\n",
    "plt.show()"
   ]
  },
  {
   "cell_type": "markdown",
   "metadata": {},
   "source": [
    "## Test the pykalman library"
   ]
  },
  {
   "cell_type": "code",
   "execution_count": null,
   "metadata": {},
   "outputs": [],
   "source": [
    "kf = KalmanFilter(transition_matrices = [[1, 1], [0, 1]], observation_matrices = [[0.1, 0.5], [-0.3, 0.0]])\n",
    "measurements = np.asarray([[1,0], [0,0], [0,1]])  # 3 observations\n",
    "kf = kf.em(measurements, n_iter=5)\n",
    "(filtered_state_means, filtered_state_covariances) = kf.filter(measurements)\n",
    "(smoothed_state_means, smoothed_state_covariances) = kf.smooth(measurements)\n",
    "\n",
    "smoothed_state_means"
   ]
  },
  {
   "cell_type": "markdown",
   "metadata": {},
   "source": [
    "## Apply the Kalman filter to the given problem"
   ]
  },
  {
   "cell_type": "code",
   "execution_count": null,
   "metadata": {},
   "outputs": [],
   "source": [
    "delta_t = 1\n",
    "F = [[1, 0, delta_t, 0], [0, 1, 0, delta_t], [0, 0, 1, 0], [0, 0, 0, 1]]\n",
    "H = [[1, 0, 0, 0], [0, 1, 0, 0]]\n",
    "measurements = df_sessionid_01.as_matrix(['lat', 'lng'])\n",
    "\n",
    "kf = KalmanFilter(n_dim_state=4,\n",
    "                  n_dim_obs=2,\n",
    "                  transition_matrices = F,\n",
    "                  observation_matrices = H,\n",
    "                  initial_state_mean=[measurements[0, 0], measurements[0, 1], 0, 0])\n",
    "\n",
    "kf = kf.em(measurements, n_iter=5)\n",
    "(filtered_state_means, filtered_state_covariances) = kf.filter(measurements)\n",
    "(smoothed_state_means, smoothed_state_covariances) = kf.smooth(measurements)"
   ]
  },
  {
   "cell_type": "code",
   "execution_count": null,
   "metadata": {},
   "outputs": [],
   "source": [
    "plt.subplot(5, 1, 1)\n",
    "plt.plot(df_sessionid_01.index, df_sessionid_01['lat'], 'x',\n",
    "         df_sessionid_01.index, smoothed_state_means[:, 0], '--')\n",
    "plt.title('')\n",
    "plt.ylabel('lat (degrees)')\n",
    "\n",
    "plt.subplot(5, 1, 2)\n",
    "plt.plot(df_sessionid_01.index, smoothed_state_means[:, 2], '--')\n",
    "plt.title('')\n",
    "plt.ylabel('lat velocity')\n",
    "\n",
    "plt.subplot(5, 1, 3)\n",
    "plt.plot(df_sessionid_01.index, df_sessionid_01['lng'], 'x',\n",
    "         df_sessionid_01.index, smoothed_state_means[:, 1], '--')\n",
    "plt.title('')\n",
    "plt.ylabel('lng (degrees)')\n",
    "\n",
    "plt.subplot(5, 1, 4)\n",
    "plt.plot(df_sessionid_01.index, smoothed_state_means[:, 3], '--')\n",
    "plt.title('')\n",
    "plt.ylabel('lng velocity')\n",
    "\n",
    "v_threshold = 0.0002\n",
    "b_stop = np.all([np.fabs(smoothed_state_means[:, 2]) < v_threshold,\n",
    "                 np.fabs(smoothed_state_means[:, 3]) < v_threshold], axis=0)\n",
    "\n",
    "plt.subplot(5, 1, 5)\n",
    "plt.plot(df_sessionid_01.index, b_stop, '--')\n",
    "plt.title('')\n",
    "plt.ylabel('Stopped?')\n",
    "plt.xlabel('Datetime')\n",
    "\n",
    "plt.show()"
   ]
  }
 ],
 "metadata": {
  "kernelspec": {
   "display_name": "Python 2",
   "language": "python",
   "name": "python2"
  },
  "language_info": {
   "codemirror_mode": {
    "name": "ipython",
    "version": 2
   },
   "file_extension": ".py",
   "mimetype": "text/x-python",
   "name": "python",
   "nbconvert_exporter": "python",
   "pygments_lexer": "ipython2",
   "version": "2.7.13"
  }
 },
 "nbformat": 4,
 "nbformat_minor": 2
}
